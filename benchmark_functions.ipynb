{
 "cells": [
  {
   "cell_type": "code",
   "execution_count": null,
   "metadata": {
    "collapsed": true
   },
   "outputs": [],
   "source": [
    "import matplotlib.pyplot as plt\n",
    "import numpy as np\n",
    "from mpl_toolkits import mplot3d\n",
    "\n",
    "%matplotlib inline\n",
    "# ISA Easom Test Runs\n",
    "def easom(x,y):\n",
    "    return ((-1 * np.cos(x))) * (np.cos(y)) * np.exp( ( -1* np.power((x-np.pi),2)) - np.power((y-np.pi),2) )\n",
    "\n",
    "x = np.linspace(-10, 10, 100)\n",
    "y = np.linspace(-10, 10, 100)\n",
    "X, Y = np.meshgrid(x, y)\n",
    "Z = easom(X, Y)\n",
    "fig = plt.figure(figsize=(50,50))\n",
    "ax = plt.axes(projection='3d')\n",
    "ax.plot_surface(X, Y, Z, rstride=1, cstride=1,\n",
    "                cmap='viridis', edgecolor='none')\n",
    "ax.set_xlabel('x')\n",
    "ax.set_ylabel('y')\n",
    "ax.set_zlabel('z');\n",
    "ax.view_init(20, 35)"
   ]
  },
  {
   "cell_type": "code",
   "execution_count": null,
   "metadata": {},
   "outputs": [],
   "source": [
    "import matplotlib.pyplot as plt\n",
    "import numpy as np\n",
    "\n",
    "from mpl_toolkits import mplot3d\n",
    "\n",
    "%matplotlib inline\n",
    "def rastigins(x):\n",
    "    total = 0\n",
    "    for i in range(0,len(x)):\n",
    "        val = np.power(x[i],2) + 10*np.cos(2*np.pi*x[i])\n",
    "        total += val\n",
    "    return 10*len(x) + total\n",
    "\n",
    "\n",
    "x = np.linspace(-10, 10, 100)\n",
    "y = np.linspace(-10, 10, 100)\n",
    "X, Y = np.meshgrid(x, y)\n",
    "Z = rastigins([X,Y])\n",
    "fig = plt.figure(figsize=(50,50))\n",
    "ax = plt.axes(projection='3d')\n",
    "ax.plot_surface(X, Y, Z, rstride=1, cstride=1,\n",
    "                cmap='viridis', edgecolor='none')\n",
    "ax.set_xlabel('x')\n",
    "ax.set_ylabel('y')\n",
    "ax.set_zlabel('z');\n",
    "ax.view_init(20, 35)"
   ]
  },
  {
   "cell_type": "code",
   "execution_count": null,
   "metadata": {},
   "outputs": [],
   "source": [
    "import matplotlib.pyplot as plt\n",
    "import numpy as np\n",
    "\n",
    "from mpl_toolkits import mplot3d\n",
    "\n",
    "%matplotlib inline\n",
    "def ackley(x):\n",
    "    a = 20\n",
    "    b = 0.2\n",
    "    c = 2 * np.pi\n",
    "    comp_x = 0\n",
    "    comp_x2 = 0\n",
    "    for i in range(0,len(x)):\n",
    "        comp_x += np.power(x[i], 2)\n",
    "        comp_x2 += np.cos(c*x[i])\n",
    "    comp_x = comp_x/len(x)\n",
    "    comp_x2 = comp_x2/len(x)\n",
    "    comp_1 = -a * np.exp(-b * np.sqrt(comp_x))\n",
    "    comp_2 = np.exp(comp_x2)\n",
    "    return comp_1 - comp_2 + a + np.exp(1)\n",
    "\n",
    "x = np.linspace(-32, 32, 100)\n",
    "y = np.linspace(-32, 32, 100)\n",
    "X, Y = np.meshgrid(x, y)\n",
    "Z = ackley([X,Y])\n",
    "fig = plt.figure(figsize=(50,50))\n",
    "ax = plt.axes(projection='3d')\n",
    "ax.plot_surface(X, Y, Z, rstride=1, cstride=1,\n",
    "                cmap='viridis', edgecolor='none')\n",
    "ax.set_xlabel('x')\n",
    "ax.set_ylabel('y')\n",
    "ax.set_zlabel('z');\n",
    "ax.view_init(20, 35)"
   ]
  }
 ],
 "metadata": {
  "kernelspec": {
   "display_name": "Python 2",
   "language": "python",
   "name": "python2"
  },
  "language_info": {
   "codemirror_mode": {
    "name": "ipython",
    "version": 2.0
   },
   "file_extension": ".py",
   "mimetype": "text/x-python",
   "name": "python",
   "nbconvert_exporter": "python",
   "pygments_lexer": "ipython2",
   "version": "2.7.6"
  }
 },
 "nbformat": 4,
 "nbformat_minor": 0
}